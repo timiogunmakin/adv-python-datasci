{
 "cells": [
  {
   "cell_type": "code",
   "execution_count": 1,
   "id": "bc10be6e-8943-4a2a-91cd-ad4dcf44252d",
   "metadata": {},
   "outputs": [],
   "source": [
    "from matplotlib.colors import Normalize\n",
    "import pandas as pd\n",
    "import numpy as np\n",
    "import matplotlib.pyplot as plt\n",
    "import seaborn as sns"
   ]
  },
  {
   "cell_type": "code",
   "execution_count": null,
   "id": "248d89fa-b47b-467a-b48b-149b52c5448c",
   "metadata": {},
   "outputs": [],
   "source": [
    "adult_census = pd.read_csv(r'/Users/oluwa/Desktop/Python/advanced-python-datasci-master/data/adult-census.csv')"
   ]
  },
  {
   "cell_type": "code",
   "execution_count": null,
   "id": "d914f109-a44b-46ed-afa5-00f4dbedf58d",
   "metadata": {},
   "outputs": [],
   "source": [
    "adult_census.head()"
   ]
  },
  {
   "cell_type": "code",
   "execution_count": null,
   "id": "a0816556-53a9-455f-9117-8239c3ad67ca",
   "metadata": {},
   "outputs": [],
   "source": [
    "target_column = 'class'\n",
    "adult_census[target_column].value_counts()"
   ]
  },
  {
   "cell_type": "code",
   "execution_count": null,
   "id": "d00f15d5-9d61-4506-a2e7-f52f9e2f131d",
   "metadata": {},
   "outputs": [],
   "source": [
    "features = adult_census.drop(columns='class')\n",
    "features.head()"
   ]
  },
  {
   "cell_type": "code",
   "execution_count": null,
   "id": "ff43b4eb-b9ad-45ce-8107-ef7c18928260",
   "metadata": {},
   "outputs": [],
   "source": [
    "numeric_columns = features.select_dtypes(include=np.number).columns.values\n",
    "categorical_columns = features.drop(columns=numeric_columns).columns.values"
   ]
  },
  {
   "cell_type": "code",
   "execution_count": null,
   "id": "d9273744-a3ba-4172-a4cc-a97ac6e375da",
   "metadata": {},
   "outputs": [],
   "source": [
    "print(f'''\n",
    "There are {features.shape[0]} observations and {features.shape[1]} features.\n",
    "\n",
    "Numeric features: {', '.join(numeric_columns)}.\n",
    "\n",
    "Categorical features: {', '.join(categorical_columns)}.\n",
    "''')"
   ]
  },
  {
   "cell_type": "code",
   "execution_count": null,
   "id": "b95d947c-d1c6-43b6-baa6-cb887cc7c1ce",
   "metadata": {},
   "outputs": [],
   "source": [
    "adult_census.hist(figsize=(20,14));"
   ]
  },
  {
   "cell_type": "code",
   "execution_count": null,
   "id": "a78ba4e4-296f-407f-bb1b-e2e2da8645ea",
   "metadata": {},
   "outputs": [],
   "source": [
    "adult_census['sex'].value_counts()"
   ]
  },
  {
   "cell_type": "code",
   "execution_count": null,
   "id": "e2d9e966-8246-4ae7-8fb7-3d52d2843e84",
   "metadata": {},
   "outputs": [],
   "source": [
    "adult_census['education'].value_counts()"
   ]
  },
  {
   "cell_type": "code",
   "execution_count": null,
   "id": "de30f9c9-5f76-4689-9d79-b186348adec6",
   "metadata": {},
   "outputs": [],
   "source": [
    "pd.crosstab(\n",
    "    index=adult_census['education'],\n",
    "    columns=adult_census['education-num']\n",
    ")"
   ]
  },
  {
   "cell_type": "code",
   "execution_count": null,
   "id": "5c959055-bc87-48f2-bd9c-ade928a7d298",
   "metadata": {},
   "outputs": [],
   "source": [
    "# We will plot a subset of the data to keep the plot readable and make the\n",
    "# plotting faster\n",
    "n_samples_to_plot = 5000\n",
    "columns = ['age', 'education-num', 'hours-per-week']\n",
    "sns.pairplot(data=adult_census[:n_samples_to_plot], vars=columns,\n",
    "             hue=target_column, plot_kws={'alpha': 0.2},\n",
    "             height=3, diag_kind='hist', diag_kws={'bins': 30});"
   ]
  },
  {
   "cell_type": "code",
   "execution_count": null,
   "id": "1ec0f40e-fee1-4dc7-b12c-2d66645516ff",
   "metadata": {},
   "outputs": [],
   "source": [
    "ax = sns.scatterplot(\n",
    "    x=\"age\", y=\"hours-per-week\", data=adult_census[:n_samples_to_plot],\n",
    "    hue=\"class\", alpha=0.5,\n",
    ")\n",
    "\n",
    "age_limit = 27\n",
    "plt.axvline(x=age_limit, ymin=0, ymax=1, color=\"black\", linestyle=\"--\")\n",
    "\n",
    "hours_per_week_limit = 40\n",
    "plt.axhline(\n",
    "    y=hours_per_week_limit, xmin=0.18, xmax=1, color=\"black\", linestyle=\"--\"\n",
    ")\n",
    "\n",
    "plt.annotate(\"<=50K\", (17, 25), rotation=90, fontsize=35)\n",
    "plt.annotate(\"<=50K\", (35, 20), fontsize=35)\n",
    "plt.annotate(\"???\", (45, 60), fontsize=35);"
   ]
  },
  {
   "cell_type": "markdown",
   "id": "ff76f598-d0d5-420a-81d3-64f275a408e2",
   "metadata": {},
   "source": [
    "Modelling with scikit-learn "
   ]
  },
  {
   "cell_type": "code",
   "execution_count": null,
   "id": "febedb01-e69d-4438-9a59-56769159167d",
   "metadata": {},
   "outputs": [],
   "source": [
    "target_col = \"class\"\n",
    "feature_col = adult_census.drop(columns=target_col).select_dtypes(np.number).columns.values"
   ]
  },
  {
   "cell_type": "code",
   "execution_count": null,
   "id": "f37ec274-fe32-4502-84fa-e03c8bb40f60",
   "metadata": {},
   "outputs": [],
   "source": [
    "target = adult_census[target_col]\n",
    "target"
   ]
  },
  {
   "cell_type": "code",
   "execution_count": null,
   "id": "c253f686-dce5-4532-a7aa-e83a328dd3dc",
   "metadata": {},
   "outputs": [],
   "source": [
    "features = adult_census[feature_col]\n",
    "features"
   ]
  },
  {
   "cell_type": "code",
   "execution_count": null,
   "id": "e4cf78ac-b892-44c7-bdff-25a9dbaab508",
   "metadata": {},
   "outputs": [],
   "source": [
    "print(\n",
    "    f\"The dataset contains {features.shape[0]} samples and \"\n",
    "    f\"{features.shape[1]} features\"\n",
    ")"
   ]
  },
  {
   "cell_type": "code",
   "execution_count": null,
   "id": "95acf469-e6e6-49cd-ba29-1597d5f6b2e6",
   "metadata": {},
   "outputs": [],
   "source": [
    "from sklearn import set_config\n",
    "set_config(display='diagram')"
   ]
  },
  {
   "cell_type": "code",
   "execution_count": null,
   "id": "b3ce1b1d-a49f-4237-98e2-867dfa7ade2f",
   "metadata": {},
   "outputs": [],
   "source": [
    "from sklearn.neighbors import KNeighborsClassifier\n",
    "\n",
    "# define the algorithm\n",
    "model = KNeighborsClassifier()\n",
    "\n",
    "# fit the model\n",
    "model.fit(features, target)\n",
    "\n",
    "target_predicted = model.predict(features)\n",
    "target_predicted\n",
    "# accuracy of first 5 predictions\n",
    "target[:5] == target_predicted[:5]\n",
    "\n",
    "(target == target_predicted).mean()"
   ]
  },
  {
   "cell_type": "code",
   "execution_count": null,
   "id": "25119cb4-beaa-4a4a-abb8-b5759a581337",
   "metadata": {},
   "outputs": [],
   "source": [
    "from sklearn.model_selection import train_test_split\n",
    "\n",
    "X_train, X_test, y_train, y_test = train_test_split(\n",
    "    features, \n",
    "    target, \n",
    "    random_state=123, \n",
    "    test_size=0.25,\n",
    "    stratify=target\n",
    ")"
   ]
  },
  {
   "cell_type": "code",
   "execution_count": null,
   "id": "f67ef715-093e-4831-b4b3-cd77848cfe41",
   "metadata": {},
   "outputs": [],
   "source": [
    "y_train.shape"
   ]
  },
  {
   "cell_type": "code",
   "execution_count": null,
   "id": "dd0c8f7a-bffe-452b-b4cd-1c0301dbba85",
   "metadata": {},
   "outputs": [],
   "source": [
    "X_train.shape"
   ]
  },
  {
   "cell_type": "code",
   "execution_count": null,
   "id": "7967769f-58c8-4eca-9385-8e46caa08d6a",
   "metadata": {},
   "outputs": [],
   "source": [
    "X_test.shape"
   ]
  },
  {
   "cell_type": "code",
   "execution_count": null,
   "id": "ef987cc4-645f-4d60-9e48-805a38aab0a9",
   "metadata": {},
   "outputs": [],
   "source": [
    "y_test.shape"
   ]
  },
  {
   "cell_type": "code",
   "execution_count": null,
   "id": "a91512f3-d331-408f-abb5-4ea458a23e03",
   "metadata": {},
   "outputs": [],
   "source": [
    "y_train.value_counts(normalize=True)"
   ]
  },
  {
   "cell_type": "markdown",
   "id": "d6a7133e-5311-4950-a18c-ae02c24f2fc8",
   "metadata": {
    "tags": []
   },
   "source": [
    "KNeighbors Classifier"
   ]
  },
  {
   "cell_type": "code",
   "execution_count": null,
   "id": "fee3db51-dbc3-4059-9682-c245ea9d9e39",
   "metadata": {},
   "outputs": [],
   "source": [
    "model = KNeighborsClassifier()\n",
    "\n",
    "model.fit(X_train, y_train)\n",
    "\n",
    "# score model on test data\n",
    "accuracy = model.score(X_test, y_test)\n",
    "\n",
    "print(f'The test accuracy using {model.__class__.__name__} is {round(accuracy, 4) * 100}%')"
   ]
  },
  {
   "cell_type": "markdown",
   "id": "6545ce07-5689-4ace-a25f-fab6baa1ab15",
   "metadata": {},
   "source": [
    "Logistic Regression"
   ]
  },
  {
   "cell_type": "code",
   "execution_count": null,
   "id": "50c4cb44-cd2a-44d8-ab83-01fb5b0321e0",
   "metadata": {},
   "outputs": [],
   "source": [
    "from sklearn.linear_model import LogisticRegression\n",
    "\n",
    "model = LogisticRegression()\n",
    "\n",
    "model.fit(X_train, y_train)\n",
    "\n",
    "accuracy_logistic = model.score(X_test, y_test)\n",
    "accuracy_logistic"
   ]
  },
  {
   "cell_type": "code",
   "execution_count": null,
   "id": "4feb266c-5462-44c6-beea-81c7b15bc4a8",
   "metadata": {},
   "outputs": [],
   "source": [
    "# Modular Code\n",
    "def get_features_and_target():\n",
    "    '''Split a CSV into a DF of numeric features and a target column.'''\n",
    "    adult_census = pd.read_csv(r'/Users/oluwa/Desktop/Python/advanced-python-datasci-master/data/adult-census.csv')\n",
    "\n",
    "    target_col = \"class\"\n",
    "    \n",
    "    raw_features = adult_census.drop(columns=target_col)\n",
    "    numeric_features = raw_features.select_dtypes(np.number)\n",
    "    feature_cols = numeric_features.columns.values\n",
    "\n",
    "    features = adult_census[feature_cols]\n",
    "    target = adult_census[target_col]\n",
    "    \n",
    "    return (features, target)"
   ]
  },
  {
   "cell_type": "code",
   "execution_count": null,
   "id": "dbcf18c9-dd2b-4cbc-b0ba-17ee243cdf9f",
   "metadata": {},
   "outputs": [],
   "source": [
    "f, t = get_features_and_target()\n",
    "f.head()"
   ]
  },
  {
   "cell_type": "code",
   "execution_count": null,
   "id": "de82d38f-698e-4603-9116-1a2a62e6f042",
   "metadata": {},
   "outputs": [],
   "source": [
    "t.head()"
   ]
  },
  {
   "cell_type": "code",
   "execution_count": null,
   "id": "ab61c63a-048f-46b7-8115-cb1eecb1fc33",
   "metadata": {},
   "outputs": [],
   "source": [
    "def get_features_and_target(csv_file, target_col):\n",
    "    '''Split a CSV into a DF of numeric features and a target column.'''\n",
    "    \n",
    "    adult_census = pd.read_csv(csv_file)\n",
    "    \n",
    "    raw_features = adult_census.drop(columns=target_col)\n",
    "    numeric_features = raw_features.select_dtypes(np.number)\n",
    "    feature_cols = numeric_features.columns.values\n",
    "\n",
    "    features = adult_census[feature_cols]\n",
    "    target = adult_census[target_col]\n",
    "    \n",
    "    return (features, target)"
   ]
  },
  {
   "cell_type": "code",
   "execution_count": null,
   "id": "187e3d4f-6266-413f-9fa4-559fbd56f148",
   "metadata": {},
   "outputs": [],
   "source": [
    "f, t = get_features_and_target(\n",
    "    csv_file=r'/Users/oluwa/Desktop/Python/advanced-python-datasci-master/data/adult-census.csv',\n",
    "    target_col='class',\n",
    ")"
   ]
  },
  {
   "cell_type": "code",
   "execution_count": null,
   "id": "49e67b96-ece5-466b-a5bc-467e0f5a6e32",
   "metadata": {},
   "outputs": [],
   "source": [
    "features.shape"
   ]
  },
  {
   "cell_type": "code",
   "execution_count": null,
   "id": "ee84596c-5509-4efa-96df-e32d81e1aafc",
   "metadata": {},
   "outputs": [],
   "source": [
    "f.head()"
   ]
  },
  {
   "cell_type": "code",
   "execution_count": null,
   "id": "e94326df-bf27-40b3-a036-65d4614363e3",
   "metadata": {},
   "outputs": [],
   "source": [
    "t.head()"
   ]
  },
  {
   "cell_type": "code",
   "execution_count": null,
   "id": "4d8f45f4-83ff-43ef-a847-c936a08f9600",
   "metadata": {},
   "outputs": [],
   "source": [
    "import my_module"
   ]
  },
  {
   "cell_type": "code",
   "execution_count": null,
   "id": "1543044a-9765-4f49-a8fa-f3a697abbffa",
   "metadata": {},
   "outputs": [],
   "source": [
    "x = my_module.reverse_and_capitalize('oluwatimilehin')"
   ]
  },
  {
   "cell_type": "code",
   "execution_count": null,
   "id": "9d72e66b-a83a-4f68-8a00-3585ef941a91",
   "metadata": {},
   "outputs": [],
   "source": [
    "x"
   ]
  },
  {
   "cell_type": "code",
   "execution_count": null,
   "id": "dcc57ad3-0cf3-4952-b90d-1e37dcef70dd",
   "metadata": {},
   "outputs": [],
   "source": [
    "import my_module"
   ]
  },
  {
   "cell_type": "code",
   "execution_count": null,
   "id": "467b2cd7-4415-409f-97b9-5f139a6bc238",
   "metadata": {},
   "outputs": [],
   "source": [
    "features, target = my_module.get_features_and_target(csv_file='../data/adult-census.csv', target_col='class')"
   ]
  },
  {
   "cell_type": "code",
   "execution_count": null,
   "id": "d6da9864-7467-4f3f-84df-b66ff5a0be46",
   "metadata": {},
   "outputs": [],
   "source": [
    "features"
   ]
  },
  {
   "cell_type": "code",
   "execution_count": null,
   "id": "c0245cbd-23f2-43a6-b836-1b944009b5b1",
   "metadata": {},
   "outputs": [],
   "source": [
    "target"
   ]
  },
  {
   "cell_type": "code",
   "execution_count": null,
   "id": "07283598-0211-4e30-bcb8-29e1fd7cbc48",
   "metadata": {},
   "outputs": [],
   "source": [
    "from sklearn.model_selection import train_test_split\n",
    "\n",
    "X_train, X_test, y_train, y_test = train_test_split(\n",
    "    features, \n",
    "    target, \n",
    "    random_state=123, \n",
    "    train_size=0.75,\n",
    "    stratify=target\n",
    ")"
   ]
  },
  {
   "cell_type": "code",
   "execution_count": null,
   "id": "c860f65f-0f5a-46b0-9463-86fa6e121658",
   "metadata": {},
   "outputs": [],
   "source": [
    "X_train.shape"
   ]
  },
  {
   "cell_type": "code",
   "execution_count": null,
   "id": "c5ec6e7f-0e30-4318-a0b6-c3c6e44f00f2",
   "metadata": {},
   "outputs": [],
   "source": [
    "features.shape"
   ]
  },
  {
   "cell_type": "code",
   "execution_count": null,
   "id": "17a8b29a-e411-4ab9-8f75-195dc8ba6866",
   "metadata": {},
   "outputs": [],
   "source": [
    "target"
   ]
  },
  {
   "cell_type": "code",
   "execution_count": null,
   "id": "16895d94-cb23-4d39-9ec0-26a77d33a225",
   "metadata": {},
   "outputs": [],
   "source": [
    "from sklearn.neighbors import KNeighborsClassifier\n",
    "\n",
    "model = KNeighborsClassifier()\n",
    "\n",
    "model.fit(X_train, y_train)\n",
    "\n",
    "model.score(X_test, y_test)"
   ]
  },
  {
   "cell_type": "markdown",
   "id": "0235637f-297f-4d3c-9f62-888cfa92faa8",
   "metadata": {},
   "source": [
    "Feature Engineering"
   ]
  },
  {
   "cell_type": "code",
   "execution_count": null,
   "id": "a1d901d1-3c00-45d3-b8fd-2d81c0823dea",
   "metadata": {},
   "outputs": [],
   "source": [
    "from sklearn import set_config\n",
    "set_config(display='diagram')"
   ]
  },
  {
   "cell_type": "code",
   "execution_count": null,
   "id": "43613cca-2a16-44f1-8847-5a073b3ffe80",
   "metadata": {},
   "outputs": [],
   "source": [
    "# import data\n",
    "adult_census = pd.read_csv('../data/adult-census.csv')\n",
    "\n",
    "# separate feature & target data\n",
    "target = adult_census['class']\n",
    "features = adult_census.drop(columns='class')"
   ]
  },
  {
   "cell_type": "code",
   "execution_count": null,
   "id": "8986d2be-b5bf-450a-8307-1dc69fe0a548",
   "metadata": {},
   "outputs": [],
   "source": [
    "features.dtypes"
   ]
  },
  {
   "cell_type": "code",
   "execution_count": null,
   "id": "6c924160-85fe-4ade-b4fe-ce473038186b",
   "metadata": {},
   "outputs": [],
   "source": [
    "from sklearn.compose import make_column_selector as selector\n",
    "\n",
    "# create selector object based on data type\n",
    "numerical_columns_selector = selector(dtype_exclude=object)\n",
    "categorical_columns_selector = selector(dtype_include=object)"
   ]
  },
  {
   "cell_type": "code",
   "execution_count": null,
   "id": "99ca2322-84af-4b05-8677-257ef88e5b6d",
   "metadata": {},
   "outputs": [],
   "source": [
    "# get columns of interest\n",
    "numerical_columns = numerical_columns_selector(features)\n",
    "categorical_columns = categorical_columns_selector(features)"
   ]
  },
  {
   "cell_type": "code",
   "execution_count": null,
   "id": "d9a08daa-1fae-4c70-84e5-12686c82d5df",
   "metadata": {},
   "outputs": [],
   "source": [
    "# results in a list containing relevant column names\n",
    "numerical_columns"
   ]
  },
  {
   "cell_type": "code",
   "execution_count": null,
   "id": "7a19c65c-166b-4313-9cac-2b208f4be012",
   "metadata": {},
   "outputs": [],
   "source": [
    "numerical_features = features[numerical_columns]\n",
    "numerical_features.describe()"
   ]
  },
  {
   "cell_type": "code",
   "execution_count": null,
   "id": "31de0543-1513-4b8d-9ef8-576a5c6644cf",
   "metadata": {},
   "outputs": [],
   "source": [
    "from sklearn.preprocessing import StandardScaler\n",
    "\n",
    "scaler = StandardScaler()\n",
    "scaler.fit(numerical_features)"
   ]
  },
  {
   "cell_type": "code",
   "execution_count": null,
   "id": "277b44db-6136-48e5-9316-3cf83cefa9c2",
   "metadata": {},
   "outputs": [],
   "source": [
    "scaler.mean_"
   ]
  },
  {
   "cell_type": "code",
   "execution_count": null,
   "id": "b4c1a2ec-19eb-480b-bb95-d8dd7e9fe939",
   "metadata": {},
   "outputs": [],
   "source": [
    "scaler.scale_"
   ]
  },
  {
   "cell_type": "code",
   "execution_count": null,
   "id": "27b59c7b-19f0-44ec-b3d7-803db84e4a78",
   "metadata": {},
   "outputs": [],
   "source": [
    "numerical_features_scaled = scaler.transform(numerical_features)\n",
    "numerical_features_scaled"
   ]
  },
  {
   "cell_type": "code",
   "execution_count": null,
   "id": "1e73a607-33a8-40ba-bde5-1936e9172cc0",
   "metadata": {},
   "outputs": [],
   "source": [
    "# fitting and transforming in one step\n",
    "scaler.fit_transform(numerical_features)"
   ]
  },
  {
   "cell_type": "code",
   "execution_count": null,
   "id": "06e7a675-ae27-4fec-9a1d-64fc8dc3edab",
   "metadata": {},
   "outputs": [],
   "source": [
    "numerical_features = pd.DataFrame(\n",
    "    numerical_features_scaled,\n",
    "    columns=numerical_columns\n",
    ")"
   ]
  },
  {
   "cell_type": "code",
   "execution_count": null,
   "id": "b798e39e-cbd6-4d26-8b11-922d96216ce7",
   "metadata": {},
   "outputs": [],
   "source": [
    "numerical_features.describe()"
   ]
  },
  {
   "cell_type": "code",
   "execution_count": null,
   "id": "b14785c0-5934-4c79-895f-1643f19607fc",
   "metadata": {},
   "outputs": [],
   "source": [
    "# MinMax Scaler\n",
    "\n",
    "from sklearn.preprocessing import MinMaxScaler\n",
    "\n",
    "min_max_features = MinMaxScaler(feature_range=(-1,1))\n",
    "min_max_features.fit_transform(numerical_features)"
   ]
  },
  {
   "cell_type": "code",
   "execution_count": null,
   "id": "51f47a5f-cdba-4f59-8f0b-743022a95650",
   "metadata": {},
   "outputs": [],
   "source": [
    "from sklearn.linear_model import LogisticRegression\n",
    "from sklearn.pipeline import make_pipeline\n",
    "\n",
    "model = make_pipeline(StandardScaler(), LogisticRegression())\n",
    "model"
   ]
  },
  {
   "cell_type": "code",
   "execution_count": null,
   "id": "4bbd413f-2525-445d-ae77-7c85f05b0543",
   "metadata": {},
   "outputs": [],
   "source": [
    "from sklearn.model_selection import train_test_split\n",
    "\n",
    "# split our data into train & test\n",
    "X_train, X_test, y_train, y_test = train_test_split(numerical_features, target, random_state=123)\n",
    "\n",
    "# fit our pipeline model\n",
    "model.fit(X_train, y_train)\n",
    "\n",
    "# score our model on the test data\n",
    "model.score(X_test, y_test)"
   ]
  },
  {
   "cell_type": "code",
   "execution_count": null,
   "id": "b3b11f8d-71b4-49fe-ae07-592a90dd3926",
   "metadata": {},
   "outputs": [],
   "source": [
    "from sklearn.preprocessing import OrdinalEncoder\n",
    "\n",
    "# let's illustrate with the 'education' feature\n",
    "education_column = features[[\"education\"]]\n",
    "\n",
    "encoder = OrdinalEncoder()\n",
    "education_encoded = encoder.fit_transform(education_column)\n",
    "education_encoded"
   ]
  },
  {
   "cell_type": "code",
   "execution_count": null,
   "id": "ad196ef4-4dc5-466e-8230-7b5a59670a88",
   "metadata": {},
   "outputs": [],
   "source": [
    "encoder.categories_"
   ]
  },
  {
   "cell_type": "code",
   "execution_count": null,
   "id": "da1c404d-06f0-4bc2-87a8-f651a13b6c91",
   "metadata": {},
   "outputs": [],
   "source": [
    "ed_levels = [' Preschool', ' 1st-4th', ' 5th-6th', ' 7th-8th', ' 9th', ' 10th', ' 11th', \n",
    "             ' 12th', ' HS-grad', ' Prof-school', ' Some-college', ' Assoc-acdm', \n",
    "             ' Assoc-voc', ' Bachelors', ' Masters', ' Doctorate']\n",
    "\n",
    "encoder = OrdinalEncoder(categories=[ed_levels])\n",
    "education_encoded = encoder.fit_transform(education_column)\n",
    "education_encoded"
   ]
  },
  {
   "cell_type": "code",
   "execution_count": null,
   "id": "17313777-a3c5-4f37-b9e1-62e08b98c0f5",
   "metadata": {},
   "outputs": [],
   "source": [
    "encoder.categories_"
   ]
  },
  {
   "cell_type": "code",
   "execution_count": null,
   "id": "a21a33ce-22a7-425d-bd6e-91c5dea6299c",
   "metadata": {},
   "outputs": [],
   "source": [
    "from sklearn.preprocessing import OneHotEncoder\n",
    "\n",
    "encoder = OneHotEncoder(sparse=False)\n",
    "education_encoded = encoder.fit_transform(education_column)\n",
    "education_encoded"
   ]
  },
  {
   "cell_type": "code",
   "execution_count": null,
   "id": "472427fb-de6d-466f-928b-7c254c118290",
   "metadata": {},
   "outputs": [],
   "source": [
    "feature_names = encoder.get_feature_names(input_features=[\"education\"])\n",
    "pd.DataFrame(education_encoded, columns=feature_names)"
   ]
  },
  {
   "cell_type": "code",
   "execution_count": null,
   "id": "03354c09-fe60-4b29-bd27-6d096a4be85e",
   "metadata": {},
   "outputs": [],
   "source": [
    "# get all categorical features\n",
    "categorical_features = features[categorical_columns]\n",
    "\n",
    "# one-hot encode all features\n",
    "categorical_features_encoded = encoder.fit_transform(categorical_features)\n",
    "\n",
    "# view as a data frame\n",
    "columns_encoded = encoder.get_feature_names(categorical_features.columns)\n",
    "pd.DataFrame(categorical_features_encoded, columns=columns_encoded).head()"
   ]
  },
  {
   "cell_type": "code",
   "execution_count": null,
   "id": "734fa5f5-ce26-48e7-9365-225336679f5f",
   "metadata": {},
   "outputs": [],
   "source": [
    "# drop the duplicated column `\"education-num\"` as stated in the data exploration notebook\n",
    "features = features.drop(columns='education-num')\n",
    "\n",
    "# create selector object based on data type\n",
    "numerical_columns_selector = selector(dtype_exclude=object)\n",
    "categorical_columns_selector = selector(dtype_include=object)\n",
    "\n",
    "# get columns of interest\n",
    "numerical_columns = numerical_columns_selector(features)\n",
    "categorical_columns = categorical_columns_selector(features)\n",
    "\n",
    "# split into train & test sets\n",
    "X_train, X_test, y_train, y_test = train_test_split(features, target, random_state=123)"
   ]
  },
  {
   "cell_type": "code",
   "execution_count": null,
   "id": "b086d78c-da11-4691-88b0-2a2cf324a565",
   "metadata": {},
   "outputs": [],
   "source": [
    "categorical_preprocessor = OneHotEncoder(handle_unknown=\"ignore\")\n",
    "numerical_preprocessor = StandardScaler()"
   ]
  },
  {
   "cell_type": "code",
   "execution_count": null,
   "id": "de149e77-7b6f-48fe-9447-b87547c97aeb",
   "metadata": {},
   "outputs": [],
   "source": [
    "from sklearn.compose import ColumnTransformer\n",
    "\n",
    "preprocessor = ColumnTransformer([\n",
    "    ('one-hot-encoder', categorical_preprocessor, categorical_columns),\n",
    "    ('standard_scaler', numerical_preprocessor, numerical_columns)\n",
    "])"
   ]
  },
  {
   "cell_type": "code",
   "execution_count": null,
   "id": "b6332928-e346-4bce-92e4-d5a149958b3d",
   "metadata": {},
   "outputs": [],
   "source": [
    "model = make_pipeline(preprocessor, LogisticRegression(max_iter=500))\n",
    "model"
   ]
  },
  {
   "cell_type": "code",
   "execution_count": null,
   "id": "c372ca39-6431-405a-b30a-d106f567ecad",
   "metadata": {},
   "outputs": [],
   "source": [
    "# fit our model\n",
    "_ = model.fit(X_train, y_train)\n",
    "\n",
    "# score on test set\n",
    "model.score(X_test, y_test)"
   ]
  },
  {
   "cell_type": "markdown",
   "id": "9997ab95-671a-47a9-b257-69f1bf03517a",
   "metadata": {},
   "source": [
    "Model Evaluation & Selection"
   ]
  },
  {
   "cell_type": "code",
   "execution_count": null,
   "id": "7efe2f0b-9638-492e-808b-c9a0166c67d4",
   "metadata": {},
   "outputs": [],
   "source": [
    "from sklearn.model_selection import train_test_split\n",
    "\n",
    "# import data\n",
    "adult_census = pd.read_csv('../data/adult-census.csv')\n",
    "\n",
    "# separate feature & target data\n",
    "target = adult_census['class']\n",
    "features = adult_census.drop(columns='class')\n",
    "\n",
    "# drop the duplicated column `\"education-num\"` as stated in the data exploration notebook\n",
    "features = features.drop(columns='education-num')\n",
    "\n",
    "# split into train & test sets\n",
    "X_train, X_test, y_train, y_test = train_test_split(features, target, random_state=123)"
   ]
  },
  {
   "cell_type": "code",
   "execution_count": null,
   "id": "49aa49ae-db5d-4b60-b4ad-0078bd9711db",
   "metadata": {},
   "outputs": [],
   "source": [
    "# packages used\n",
    "from sklearn.compose import make_column_selector as selector\n",
    "from sklearn.preprocessing import StandardScaler\n",
    "from sklearn.preprocessing import OneHotEncoder\n",
    "from sklearn.compose import ColumnTransformer\n",
    "\n",
    "# create selector object based on data type\n",
    "numerical_columns_selector = selector(dtype_exclude=object)\n",
    "categorical_columns_selector = selector(dtype_include=object)\n",
    "\n",
    "# get columns of interest\n",
    "numerical_columns = numerical_columns_selector(features)\n",
    "categorical_columns = categorical_columns_selector(features)\n",
    "\n",
    "# preprocessors to handle numeric and categorical features\n",
    "numerical_preprocessor = StandardScaler()\n",
    "categorical_preprocessor = OneHotEncoder(handle_unknown=\"ignore\")\n",
    "\n",
    "# transformer to associate each of these preprocessors with their respective columns\n",
    "preprocessor = ColumnTransformer([\n",
    "    ('one-hot-encoder', categorical_preprocessor, categorical_columns),\n",
    "    ('standard_scaler', numerical_preprocessor, numerical_columns)\n",
    "])"
   ]
  },
  {
   "cell_type": "code",
   "execution_count": null,
   "id": "2c251b01-8b94-4d16-8967-a52ce5485145",
   "metadata": {},
   "outputs": [],
   "source": [
    "# packages used\n",
    "from sklearn.linear_model import LogisticRegression\n",
    "from sklearn.pipeline import make_pipeline\n",
    "\n",
    "# Pipeline object to chain together modeling processes\n",
    "model = make_pipeline(preprocessor, LogisticRegression(max_iter=500))\n",
    "model\n",
    "\n",
    "# fit our model\n",
    "_ = model.fit(X_train, y_train)\n",
    "\n",
    "# score on test set\n",
    "model.score(X_test, y_test)"
   ]
  },
  {
   "cell_type": "code",
   "execution_count": null,
   "id": "b3016cbe-615b-4243-bd1f-dfda53f4a596",
   "metadata": {},
   "outputs": [],
   "source": [
    "%%time\n",
    "from sklearn.model_selection import cross_validate\n",
    "\n",
    "cv_result = cross_validate(model, X_train, y_train, cv=5)\n",
    "cv_result"
   ]
  },
  {
   "cell_type": "code",
   "execution_count": null,
   "id": "950cdd80-6e39-455f-9a29-fd8c55f54032",
   "metadata": {},
   "outputs": [],
   "source": [
    "scores = cv_result[\"test_score\"]\n",
    "print(\"The mean cross-validation accuracy is: \"\n",
    "      f\"{scores.mean():.3f} +/- {scores.std():.3f}\")"
   ]
  },
  {
   "cell_type": "markdown",
   "id": "892d2b72-c150-40a2-b20f-d835997053f5",
   "metadata": {},
   "source": [
    "Using KNeighborsClassifier"
   ]
  },
  {
   "cell_type": "code",
   "execution_count": null,
   "id": "acd3931c-1f65-41f4-8fcf-0d6bfdbe782b",
   "metadata": {},
   "outputs": [],
   "source": [
    "# packages used\n",
    "from sklearn.neighbors import KNeighborsClassifier\n",
    "from sklearn.pipeline import make_pipeline\n",
    "\n",
    "# Pipeline object to chain together modeling processes\n",
    "model = make_pipeline(preprocessor, KNeighborsClassifier())\n",
    "model\n",
    "\n",
    "knn_results = cross_validate(model, X_train, y_train, cv=5)\n",
    "knn_results"
   ]
  },
  {
   "cell_type": "code",
   "execution_count": null,
   "id": "a985d9a2-39dc-4966-89ac-7fb4d1d6e0c4",
   "metadata": {},
   "outputs": [],
   "source": [
    "knn_results['test_score'].mean()"
   ]
  },
  {
   "cell_type": "code",
   "execution_count": null,
   "id": "442bbf3d-3f50-4517-aa50-9c5dcd840af6",
   "metadata": {},
   "outputs": [],
   "source": [
    "knn_results['test_score'].std()"
   ]
  },
  {
   "cell_type": "markdown",
   "id": "706f4f45-86b0-42da-82bf-bef749ee3416",
   "metadata": {},
   "source": [
    "Evaluation metrics"
   ]
  },
  {
   "cell_type": "code",
   "execution_count": null,
   "id": "05538d2c-d69c-4561-9c47-43bf17473b73",
   "metadata": {},
   "outputs": [],
   "source": [
    "# toy data\n",
    "from sklearn.datasets import load_breast_cancer\n",
    "X_cancer, y_cancer = load_breast_cancer(return_X_y=True)\n",
    "\n",
    "# fit model\n",
    "clf = LogisticRegression(solver='liblinear').fit(X_cancer, y_cancer)\n",
    "\n",
    "# score \n",
    "clf.score(X_cancer, y_cancer)"
   ]
  },
  {
   "cell_type": "code",
   "execution_count": null,
   "id": "6cfdb55a-5bf2-4f65-9f57-db0c11321481",
   "metadata": {},
   "outputs": [],
   "source": [
    "# toy data\n",
    "from sklearn.datasets import load_boston\n",
    "X_boston, y_boston = load_boston(return_X_y=True)\n",
    "\n",
    "# fit model\n",
    "from sklearn.linear_model import LinearRegression\n",
    "reg = LinearRegression().fit(X_boston, y_boston)\n",
    "\n",
    "# score\n",
    "reg.score(X_boston, y_boston)"
   ]
  },
  {
   "cell_type": "code",
   "execution_count": null,
   "id": "5ba93b92-7813-4371-914c-6ad1766bd14f",
   "metadata": {},
   "outputs": [],
   "source": [
    "# packages used\n",
    "from sklearn.neighbors import KNeighborsClassifier\n",
    "from sklearn.pipeline import make_pipeline\n",
    "\n",
    "# Pipeline object to chain together modeling processes\n",
    "model = make_pipeline(preprocessor, KNeighborsClassifier())\n",
    "model\n",
    "\n",
    "metrics = ['accuracy', 'roc_auc']\n",
    "knn_results = cross_validate(model, X_train, y_train, cv=5, scoring=metrics)\n",
    "knn_results"
   ]
  },
  {
   "cell_type": "code",
   "execution_count": null,
   "id": "7c41753c-6a0e-44a2-aa65-d75c0cfbfbdf",
   "metadata": {},
   "outputs": [],
   "source": [
    "%%time\n",
    "import numpy as np\n",
    "from sklearn.neighbors import KNeighborsClassifier\n",
    "from sklearn.model_selection import cross_val_score\n",
    "\n",
    "# set hyperparameter in KNN model \n",
    "model = KNeighborsClassifier(n_neighbors=10)\n",
    "\n",
    "# create preprocessor & modeling pipeline\n",
    "pipeline = make_pipeline(preprocessor, model)\n",
    "\n",
    "# 5-fold cross validation using AUC error metric\n",
    "results = cross_val_score(pipeline, X_train, y_train, cv=5, scoring='roc_auc')\n",
    "\n",
    "f'KNN model with 10 neighbors: AUC = {np.mean(results):.3f}'"
   ]
  },
  {
   "cell_type": "code",
   "execution_count": null,
   "id": "79421161-ca1f-4d53-9e33-699e49e65e37",
   "metadata": {},
   "outputs": [],
   "source": [
    "%%time\n",
    "from sklearn.model_selection import GridSearchCV\n",
    "from sklearn.pipeline import Pipeline\n",
    "\n",
    "# basic model object\n",
    "knn = KNeighborsClassifier()\n",
    "\n",
    "# Create grid of hyperparameter values\n",
    "hyper_grid = {'knn__n_neighbors': [5, 10, 15, 20]}\n",
    "\n",
    "# create preprocessor & modeling pipeline\n",
    "pipeline = Pipeline([('prep', preprocessor), ('knn', knn)])\n",
    "\n",
    "# Tune a knn model using grid search\n",
    "grid_search = GridSearchCV(pipeline, hyper_grid, cv=5, scoring='roc_auc', n_jobs=-1)\n",
    "results = grid_search.fit(X_train, y_train)\n",
    "\n",
    "# Best model's cross validated AUC\n",
    "abs(results.best_score_)"
   ]
  },
  {
   "cell_type": "code",
   "execution_count": null,
   "id": "5bb7e13e-5580-4e70-a6ec-c672b48b0435",
   "metadata": {},
   "outputs": [],
   "source": [
    "results.best_params_"
   ]
  },
  {
   "cell_type": "code",
   "execution_count": null,
   "id": "0f8d33f0-e344-406e-9d77-a29bb496b1db",
   "metadata": {},
   "outputs": [],
   "source": [
    "from sklearn.ensemble import RandomForestClassifier\n",
    "\n",
    "# basic model object\n",
    "rf = RandomForestClassifier(random_state=123)\n",
    "\n",
    "# create preprocessor & modeling pipeline\n",
    "pipeline = Pipeline([('prep', preprocessor), ('rf', rf)])"
   ]
  },
  {
   "cell_type": "code",
   "execution_count": null,
   "id": "8c57b6a2-c706-4b18-a11b-b15d29839ad1",
   "metadata": {},
   "outputs": [],
   "source": [
    "from scipy.stats import loguniform\n",
    "\n",
    "\n",
    "class loguniform_int:\n",
    "    \"\"\"Integer valued version of the log-uniform distribution\"\"\"\n",
    "    def __init__(self, a, b):\n",
    "        self._distribution = loguniform(a, b)\n",
    "\n",
    "    def rvs(self, *args, **kwargs):\n",
    "        \"\"\"Random variable sample\"\"\"\n",
    "        return self._distribution.rvs(*args, **kwargs).astype(int)"
   ]
  },
  {
   "cell_type": "code",
   "execution_count": null,
   "id": "08106a2f-1964-4763-b29a-5e80bf0f89b2",
   "metadata": {},
   "outputs": [],
   "source": [
    "# specify hyperparameter distributions to randomly sample from\n",
    "param_distributions = {\n",
    "    'rf__n_estimators': loguniform_int(50, 1000),\n",
    "    'rf__max_features': loguniform(.1, .5),\n",
    "    'rf__max_depth': loguniform_int(4, 20),\n",
    "    'rf__min_samples_leaf': loguniform_int(1, 100),\n",
    "    'rf__max_samples': loguniform(.5, 1),\n",
    "}"
   ]
  },
  {
   "cell_type": "code",
   "execution_count": null,
   "id": "7da48ada-996a-4494-a064-992bcfa1ceb6",
   "metadata": {},
   "outputs": [],
   "source": [
    "%%time\n",
    "from sklearn.model_selection import RandomizedSearchCV\n",
    "\n",
    "# perform 10 random iterations\n",
    "random_search = RandomizedSearchCV(\n",
    "    pipeline, \n",
    "    param_distributions=param_distributions, \n",
    "    n_iter=10,\n",
    "    cv=5, \n",
    "    scoring='roc_auc',\n",
    "    verbose=1,\n",
    "    n_jobs=-1,\n",
    ")\n",
    "\n",
    "results = random_search.fit(X_train, y_train)"
   ]
  },
  {
   "cell_type": "code",
   "execution_count": null,
   "id": "58f85a5f-8bc7-4656-83a8-82ba07235bcd",
   "metadata": {},
   "outputs": [],
   "source": [
    "results.best_score_"
   ]
  },
  {
   "cell_type": "code",
   "execution_count": null,
   "id": "898bff02-cb43-45ff-85ef-63d796fd6773",
   "metadata": {},
   "outputs": [],
   "source": [
    "results.best_params_"
   ]
  },
  {
   "cell_type": "markdown",
   "id": "33e024a4-8324-42e8-b752-a2fe68bb7341",
   "metadata": {},
   "source": [
    "Writing a Preprocessor Function"
   ]
  },
  {
   "cell_type": "code",
   "execution_count": null,
   "id": "1505a026-3333-4137-aa9d-cb467f6b3c28",
   "metadata": {},
   "outputs": [],
   "source": [
    "from my_module import get_features_and_target, make_preprocessor"
   ]
  },
  {
   "cell_type": "code",
   "execution_count": null,
   "id": "dc351468-f48d-4420-ac4c-c59e3730a552",
   "metadata": {},
   "outputs": [],
   "source": [
    "features, target = get_features_and_target('../data/adult-census.csv', 'class')"
   ]
  },
  {
   "cell_type": "code",
   "execution_count": null,
   "id": "2107579c-5d5e-4c79-9274-cc7bc3592333",
   "metadata": {
    "tags": []
   },
   "outputs": [],
   "source": [
    "features"
   ]
  },
  {
   "cell_type": "code",
   "execution_count": null,
   "id": "b7dc1c4a-f554-4a3a-9c2d-8e8bb826a908",
   "metadata": {},
   "outputs": [],
   "source": [
    "target"
   ]
  },
  {
   "cell_type": "code",
   "execution_count": null,
   "id": "ad3f4b42-6614-4268-b358-d26ce9e96491",
   "metadata": {},
   "outputs": [],
   "source": [
    "preprocessor = make_preprocessor(features)"
   ]
  },
  {
   "cell_type": "code",
   "execution_count": null,
   "id": "c88fa3ae-2750-408b-8c81-11a5e6200c7a",
   "metadata": {},
   "outputs": [],
   "source": [
    "print(preprocessor)"
   ]
  },
  {
   "cell_type": "code",
   "execution_count": null,
   "id": "28a9b6a3-f0c3-496c-9086-a2b84269f29a",
   "metadata": {},
   "outputs": [],
   "source": [
    "from sklearn.linear_model import LogisticRegression\n",
    "from sklearn.pipeline import make_pipeline\n",
    "\n",
    "pipeline = make_pipeline(preprocessor, LogisticRegression())"
   ]
  },
  {
   "cell_type": "code",
   "execution_count": null,
   "id": "5049f668-8c7f-4bbb-8ca2-5c7e2ca2c371",
   "metadata": {},
   "outputs": [],
   "source": [
    "pipeline"
   ]
  },
  {
   "cell_type": "code",
   "execution_count": 8,
   "id": "553a8137-8009-4acd-88ef-d9e9e62a3f56",
   "metadata": {},
   "outputs": [],
   "source": [
    "import my_module\n",
    "from sklearn.preprocessing import Normalizer, OrdinalEncoder\n",
    "from sklearn.linear_model import LogisticRegression\n",
    "from sklearn.pipeline import make_pipeline\n",
    "from sklearn.model_selection import train_test_split"
   ]
  },
  {
   "cell_type": "code",
   "execution_count": 9,
   "id": "68aca8cf-7fa2-4361-98de-bda485ccc782",
   "metadata": {},
   "outputs": [
    {
     "name": "stderr",
     "output_type": "stream",
     "text": [
      "/opt/anaconda3/envs/uc-python/lib/python3.9/site-packages/sklearn/linear_model/_logistic.py:814: ConvergenceWarning: lbfgs failed to converge (status=1):\n",
      "STOP: TOTAL NO. of ITERATIONS REACHED LIMIT.\n",
      "\n",
      "Increase the number of iterations (max_iter) or scale the data as shown in:\n",
      "    https://scikit-learn.org/stable/modules/preprocessing.html\n",
      "Please also refer to the documentation for alternative solver options:\n",
      "    https://scikit-learn.org/stable/modules/linear_model.html#logistic-regression\n",
      "  n_iter_i = _check_optimize_result(\n"
     ]
    },
    {
     "data": {
      "text/plain": [
       "0.8434198673327328"
      ]
     },
     "execution_count": 9,
     "metadata": {},
     "output_type": "execute_result"
    }
   ],
   "source": [
    "features, target = my_module.get_features_and_target(csv_file='../data/adult-census.csv', target_col='class', \n",
    "\n",
    "                                                    )\n",
    "features = features.drop('education-num', axis=1)\n",
    "target = target.str.contains('>50K').astype(int)\n",
    "\n",
    "preprocessor = my_module.make_preprocessor(features, numeric_preprocessor=Normalizer())\n",
    "model = make_pipeline(preprocessor, LogisticRegression())\n",
    "\n",
    "X_train, X_test, y_train, y_test = train_test_split(features, target, random_state=123)\n",
    "\n",
    "_ = model.fit(X_train, y_train)\n",
    "model.score(X_test, y_test)"
   ]
  },
  {
   "cell_type": "code",
   "execution_count": null,
   "id": "94146d50-2478-4548-a35d-ee36c15c45b6",
   "metadata": {},
   "outputs": [],
   "source": []
  }
 ],
 "metadata": {
  "kernelspec": {
   "display_name": "Python 3.9.7 64-bit ('uc-python': conda)",
   "language": "python",
   "name": "python397jvsc74a57bd0b78b58e9b46f77eb448af7b2738802b0265d05528b234c1ea97a4e29ba2585ac"
  },
  "language_info": {
   "codemirror_mode": {
    "name": "ipython",
    "version": 3
   },
   "file_extension": ".py",
   "mimetype": "text/x-python",
   "name": "python",
   "nbconvert_exporter": "python",
   "pygments_lexer": "ipython3",
   "version": "3.9.7"
  }
 },
 "nbformat": 4,
 "nbformat_minor": 5
}
