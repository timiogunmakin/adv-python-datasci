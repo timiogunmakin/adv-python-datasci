{
 "cells": [
  {
   "cell_type": "code",
   "execution_count": 17,
   "id": "bc10be6e-8943-4a2a-91cd-ad4dcf44252d",
   "metadata": {},
   "outputs": [],
   "source": [
    "from matplotlib.colors import Normalize\n",
    "import pandas as pd\n",
    "import numpy as np\n",
    "import matplotlib.pyplot as plt\n",
    "import seaborn as sns"
   ]
  },
  {
   "cell_type": "code",
   "execution_count": null,
   "id": "248d89fa-b47b-467a-b48b-149b52c5448c",
   "metadata": {},
   "outputs": [],
   "source": [
    "adult_census = pd.read_csv(r'/Users/oluwa/Desktop/Python/advanced-python-datasci-master/data/adult-census.csv')"
   ]
  },
  {
   "cell_type": "code",
   "execution_count": null,
   "id": "d914f109-a44b-46ed-afa5-00f4dbedf58d",
   "metadata": {},
   "outputs": [],
   "source": [
    "adult_census.head()"
   ]
  },
  {
   "cell_type": "code",
   "execution_count": null,
   "id": "a0816556-53a9-455f-9117-8239c3ad67ca",
   "metadata": {},
   "outputs": [],
   "source": [
    "target_column = 'class'\n",
    "adult_census[target_column].value_counts()"
   ]
  },
  {
   "cell_type": "code",
   "execution_count": null,
   "id": "d00f15d5-9d61-4506-a2e7-f52f9e2f131d",
   "metadata": {},
   "outputs": [],
   "source": [
    "features = adult_census.drop(columns='class')\n",
    "features.head()"
   ]
  },
  {
   "cell_type": "code",
   "execution_count": null,
   "id": "ff43b4eb-b9ad-45ce-8107-ef7c18928260",
   "metadata": {},
   "outputs": [],
   "source": [
    "numeric_columns = features.select_dtypes(include=np.number).columns.values\n",
    "categorical_columns = features.drop(columns=numeric_columns).columns.values"
   ]
  },
  {
   "cell_type": "code",
   "execution_count": null,
   "id": "d9273744-a3ba-4172-a4cc-a97ac6e375da",
   "metadata": {},
   "outputs": [],
   "source": [
    "print(f'''\n",
    "There are {features.shape[0]} observations and {features.shape[1]} features.\n",
    "\n",
    "Numeric features: {', '.join(numeric_columns)}.\n",
    "\n",
    "Categorical features: {', '.join(categorical_columns)}.\n",
    "''')"
   ]
  },
  {
   "cell_type": "code",
   "execution_count": null,
   "id": "b95d947c-d1c6-43b6-baa6-cb887cc7c1ce",
   "metadata": {},
   "outputs": [],
   "source": [
    "adult_census.hist(figsize=(20,14));"
   ]
  },
  {
   "cell_type": "code",
   "execution_count": null,
   "id": "a78ba4e4-296f-407f-bb1b-e2e2da8645ea",
   "metadata": {},
   "outputs": [],
   "source": [
    "adult_census['sex'].value_counts()"
   ]
  },
  {
   "cell_type": "code",
   "execution_count": null,
   "id": "e2d9e966-8246-4ae7-8fb7-3d52d2843e84",
   "metadata": {},
   "outputs": [],
   "source": [
    "adult_census['education'].value_counts()"
   ]
  },
  {
   "cell_type": "code",
   "execution_count": null,
   "id": "de30f9c9-5f76-4689-9d79-b186348adec6",
   "metadata": {},
   "outputs": [],
   "source": [
    "pd.crosstab(\n",
    "    index=adult_census['education'],\n",
    "    columns=adult_census['education-num']\n",
    ")"
   ]
  },
  {
   "cell_type": "code",
   "execution_count": null,
   "id": "5c959055-bc87-48f2-bd9c-ade928a7d298",
   "metadata": {},
   "outputs": [],
   "source": [
    "# We will plot a subset of the data to keep the plot readable and make the\n",
    "# plotting faster\n",
    "n_samples_to_plot = 5000\n",
    "columns = ['age', 'education-num', 'hours-per-week']\n",
    "sns.pairplot(data=adult_census[:n_samples_to_plot], vars=columns,\n",
    "             hue=target_column, plot_kws={'alpha': 0.2},\n",
    "             height=3, diag_kind='hist', diag_kws={'bins': 30});"
   ]
  },
  {
   "cell_type": "code",
   "execution_count": null,
   "id": "1ec0f40e-fee1-4dc7-b12c-2d66645516ff",
   "metadata": {},
   "outputs": [],
   "source": [
    "ax = sns.scatterplot(\n",
    "    x=\"age\", y=\"hours-per-week\", data=adult_census[:n_samples_to_plot],\n",
    "    hue=\"class\", alpha=0.5,\n",
    ")\n",
    "\n",
    "age_limit = 27\n",
    "plt.axvline(x=age_limit, ymin=0, ymax=1, color=\"black\", linestyle=\"--\")\n",
    "\n",
    "hours_per_week_limit = 40\n",
    "plt.axhline(\n",
    "    y=hours_per_week_limit, xmin=0.18, xmax=1, color=\"black\", linestyle=\"--\"\n",
    ")\n",
    "\n",
    "plt.annotate(\"<=50K\", (17, 25), rotation=90, fontsize=35)\n",
    "plt.annotate(\"<=50K\", (35, 20), fontsize=35)\n",
    "plt.annotate(\"???\", (45, 60), fontsize=35);"
   ]
  },
  {
   "cell_type": "markdown",
   "id": "ff76f598-d0d5-420a-81d3-64f275a408e2",
   "metadata": {},
   "source": [
    "Modelling with scikit-learn "
   ]
  },
  {
   "cell_type": "code",
   "execution_count": null,
   "id": "febedb01-e69d-4438-9a59-56769159167d",
   "metadata": {},
   "outputs": [],
   "source": [
    "target_col = \"class\"\n",
    "feature_col = adult_census.drop(columns=target_col).select_dtypes(np.number).columns.values"
   ]
  },
  {
   "cell_type": "code",
   "execution_count": null,
   "id": "f37ec274-fe32-4502-84fa-e03c8bb40f60",
   "metadata": {},
   "outputs": [],
   "source": [
    "target = adult_census[target_col]\n",
    "target"
   ]
  },
  {
   "cell_type": "code",
   "execution_count": null,
   "id": "c253f686-dce5-4532-a7aa-e83a328dd3dc",
   "metadata": {},
   "outputs": [],
   "source": [
    "features = adult_census[feature_col]\n",
    "features"
   ]
  },
  {
   "cell_type": "code",
   "execution_count": null,
   "id": "e4cf78ac-b892-44c7-bdff-25a9dbaab508",
   "metadata": {},
   "outputs": [],
   "source": [
    "print(\n",
    "    f\"The dataset contains {features.shape[0]} samples and \"\n",
    "    f\"{features.shape[1]} features\"\n",
    ")"
   ]
  },
  {
   "cell_type": "code",
   "execution_count": null,
   "id": "95acf469-e6e6-49cd-ba29-1597d5f6b2e6",
   "metadata": {},
   "outputs": [],
   "source": [
    "from sklearn import set_config\n",
    "set_config(display='diagram')"
   ]
  },
  {
   "cell_type": "code",
   "execution_count": null,
   "id": "b3ce1b1d-a49f-4237-98e2-867dfa7ade2f",
   "metadata": {},
   "outputs": [],
   "source": [
    "from sklearn.neighbors import KNeighborsClassifier\n",
    "\n",
    "# define the algorithm\n",
    "model = KNeighborsClassifier()\n",
    "\n",
    "# fit the model\n",
    "model.fit(features, target)\n",
    "\n",
    "target_predicted = model.predict(features)\n",
    "target_predicted\n",
    "# accuracy of first 5 predictions\n",
    "target[:5] == target_predicted[:5]\n",
    "\n",
    "(target == target_predicted).mean()"
   ]
  },
  {
   "cell_type": "code",
   "execution_count": null,
   "id": "25119cb4-beaa-4a4a-abb8-b5759a581337",
   "metadata": {},
   "outputs": [],
   "source": [
    "from sklearn.model_selection import train_test_split\n",
    "\n",
    "X_train, X_test, y_train, y_test = train_test_split(\n",
    "    features, \n",
    "    target, \n",
    "    random_state=123, \n",
    "    test_size=0.25,\n",
    "    stratify=target\n",
    ")"
   ]
  },
  {
   "cell_type": "code",
   "execution_count": null,
   "id": "f67ef715-093e-4831-b4b3-cd77848cfe41",
   "metadata": {},
   "outputs": [],
   "source": [
    "y_train.shape"
   ]
  },
  {
   "cell_type": "code",
   "execution_count": null,
   "id": "dd0c8f7a-bffe-452b-b4cd-1c0301dbba85",
   "metadata": {},
   "outputs": [],
   "source": [
    "X_train.shape"
   ]
  },
  {
   "cell_type": "code",
   "execution_count": null,
   "id": "7967769f-58c8-4eca-9385-8e46caa08d6a",
   "metadata": {},
   "outputs": [],
   "source": [
    "X_test.shape"
   ]
  },
  {
   "cell_type": "code",
   "execution_count": null,
   "id": "ef987cc4-645f-4d60-9e48-805a38aab0a9",
   "metadata": {},
   "outputs": [],
   "source": [
    "y_test.shape"
   ]
  },
  {
   "cell_type": "code",
   "execution_count": null,
   "id": "a91512f3-d331-408f-abb5-4ea458a23e03",
   "metadata": {},
   "outputs": [],
   "source": [
    "y_train.value_counts(normalize=True)"
   ]
  },
  {
   "cell_type": "markdown",
   "id": "d6a7133e-5311-4950-a18c-ae02c24f2fc8",
   "metadata": {
    "tags": []
   },
   "source": [
    "KNeighbors Classifier"
   ]
  },
  {
   "cell_type": "code",
   "execution_count": null,
   "id": "fee3db51-dbc3-4059-9682-c245ea9d9e39",
   "metadata": {},
   "outputs": [],
   "source": [
    "model = KNeighborsClassifier()\n",
    "\n",
    "model.fit(X_train, y_train)\n",
    "\n",
    "# score model on test data\n",
    "accuracy = model.score(X_test, y_test)\n",
    "\n",
    "print(f'The test accuracy using {model.__class__.__name__} is {round(accuracy, 4) * 100}%')"
   ]
  },
  {
   "cell_type": "markdown",
   "id": "6545ce07-5689-4ace-a25f-fab6baa1ab15",
   "metadata": {},
   "source": [
    "Logistic Regression"
   ]
  },
  {
   "cell_type": "code",
   "execution_count": null,
   "id": "50c4cb44-cd2a-44d8-ab83-01fb5b0321e0",
   "metadata": {},
   "outputs": [],
   "source": [
    "from sklearn.linear_model import LogisticRegression\n",
    "\n",
    "model = LogisticRegression()\n",
    "\n",
    "model.fit(X_train, y_train)\n",
    "\n",
    "accuracy_logistic = model.score(X_test, y_test)\n",
    "accuracy_logistic"
   ]
  },
  {
   "cell_type": "code",
   "execution_count": 25,
   "id": "4feb266c-5462-44c6-beea-81c7b15bc4a8",
   "metadata": {},
   "outputs": [],
   "source": [
    "# Modular Code\n",
    "def get_features_and_target():\n",
    "    '''Split a CSV into a DF of numeric features and a target column.'''\n",
    "    adult_census = pd.read_csv(r'/Users/oluwa/Desktop/Python/advanced-python-datasci-master/data/adult-census.csv')\n",
    "\n",
    "    target_col = \"class\"\n",
    "    \n",
    "    raw_features = adult_census.drop(columns=target_col)\n",
    "    numeric_features = raw_features.select_dtypes(np.number)\n",
    "    feature_cols = numeric_features.columns.values\n",
    "\n",
    "    features = adult_census[feature_cols]\n",
    "    target = adult_census[target_col]\n",
    "    \n",
    "    return (features, target)"
   ]
  },
  {
   "cell_type": "code",
   "execution_count": 19,
   "id": "dbcf18c9-dd2b-4cbc-b0ba-17ee243cdf9f",
   "metadata": {},
   "outputs": [
    {
     "data": {
      "text/html": [
       "<div>\n",
       "<style scoped>\n",
       "    .dataframe tbody tr th:only-of-type {\n",
       "        vertical-align: middle;\n",
       "    }\n",
       "\n",
       "    .dataframe tbody tr th {\n",
       "        vertical-align: top;\n",
       "    }\n",
       "\n",
       "    .dataframe thead th {\n",
       "        text-align: right;\n",
       "    }\n",
       "</style>\n",
       "<table border=\"1\" class=\"dataframe\">\n",
       "  <thead>\n",
       "    <tr style=\"text-align: right;\">\n",
       "      <th></th>\n",
       "      <th>age</th>\n",
       "      <th>education-num</th>\n",
       "      <th>capital-gain</th>\n",
       "      <th>capital-loss</th>\n",
       "      <th>hours-per-week</th>\n",
       "    </tr>\n",
       "  </thead>\n",
       "  <tbody>\n",
       "    <tr>\n",
       "      <th>0</th>\n",
       "      <td>25</td>\n",
       "      <td>7</td>\n",
       "      <td>0</td>\n",
       "      <td>0</td>\n",
       "      <td>40</td>\n",
       "    </tr>\n",
       "    <tr>\n",
       "      <th>1</th>\n",
       "      <td>38</td>\n",
       "      <td>9</td>\n",
       "      <td>0</td>\n",
       "      <td>0</td>\n",
       "      <td>50</td>\n",
       "    </tr>\n",
       "    <tr>\n",
       "      <th>2</th>\n",
       "      <td>28</td>\n",
       "      <td>12</td>\n",
       "      <td>0</td>\n",
       "      <td>0</td>\n",
       "      <td>40</td>\n",
       "    </tr>\n",
       "    <tr>\n",
       "      <th>3</th>\n",
       "      <td>44</td>\n",
       "      <td>10</td>\n",
       "      <td>7688</td>\n",
       "      <td>0</td>\n",
       "      <td>40</td>\n",
       "    </tr>\n",
       "    <tr>\n",
       "      <th>4</th>\n",
       "      <td>18</td>\n",
       "      <td>10</td>\n",
       "      <td>0</td>\n",
       "      <td>0</td>\n",
       "      <td>30</td>\n",
       "    </tr>\n",
       "  </tbody>\n",
       "</table>\n",
       "</div>"
      ],
      "text/plain": [
       "   age  education-num  capital-gain  capital-loss  hours-per-week\n",
       "0   25              7             0             0              40\n",
       "1   38              9             0             0              50\n",
       "2   28             12             0             0              40\n",
       "3   44             10          7688             0              40\n",
       "4   18             10             0             0              30"
      ]
     },
     "execution_count": 19,
     "metadata": {},
     "output_type": "execute_result"
    }
   ],
   "source": [
    "f, t = get_features_and_target()\n",
    "f.head()"
   ]
  },
  {
   "cell_type": "code",
   "execution_count": null,
   "id": "de82d38f-698e-4603-9116-1a2a62e6f042",
   "metadata": {},
   "outputs": [],
   "source": [
    "t.head()"
   ]
  },
  {
   "cell_type": "code",
   "execution_count": 22,
   "id": "ab61c63a-048f-46b7-8115-cb1eecb1fc33",
   "metadata": {},
   "outputs": [],
   "source": [
    "def get_features_and_target(csv_file, target_col):\n",
    "    '''Split a CSV into a DF of numeric features and a target column.'''\n",
    "    \n",
    "    adult_census = pd.read_csv(csv_file)\n",
    "    \n",
    "    raw_features = adult_census.drop(columns=target_col)\n",
    "    numeric_features = raw_features.select_dtypes(np.number)\n",
    "    feature_cols = numeric_features.columns.values\n",
    "\n",
    "    features = adult_census[feature_cols]\n",
    "    target = adult_census[target_col]\n",
    "    \n",
    "    return (features, target)"
   ]
  },
  {
   "cell_type": "code",
   "execution_count": 23,
   "id": "187e3d4f-6266-413f-9fa4-559fbd56f148",
   "metadata": {},
   "outputs": [],
   "source": [
    "f, t = get_features_and_target(\n",
    "    csv_file=r'/Users/oluwa/Desktop/Python/advanced-python-datasci-master/data/adult-census.csv',\n",
    "    target_col='class',\n",
    ")"
   ]
  },
  {
   "cell_type": "code",
   "execution_count": null,
   "id": "49e67b96-ece5-466b-a5bc-467e0f5a6e32",
   "metadata": {},
   "outputs": [],
   "source": [
    "features.shape"
   ]
  },
  {
   "cell_type": "code",
   "execution_count": null,
   "id": "ee84596c-5509-4efa-96df-e32d81e1aafc",
   "metadata": {},
   "outputs": [],
   "source": [
    "f.head()"
   ]
  },
  {
   "cell_type": "code",
   "execution_count": null,
   "id": "e94326df-bf27-40b3-a036-65d4614363e3",
   "metadata": {},
   "outputs": [],
   "source": [
    "t.head()"
   ]
  },
  {
   "cell_type": "code",
   "execution_count": null,
   "id": "4d8f45f4-83ff-43ef-a847-c936a08f9600",
   "metadata": {},
   "outputs": [],
   "source": [
    "import my_module"
   ]
  },
  {
   "cell_type": "code",
   "execution_count": null,
   "id": "1543044a-9765-4f49-a8fa-f3a697abbffa",
   "metadata": {},
   "outputs": [],
   "source": [
    "x = my_module.reverse_and_capitalize('oluwatimilehin')"
   ]
  },
  {
   "cell_type": "code",
   "execution_count": null,
   "id": "9d72e66b-a83a-4f68-8a00-3585ef941a91",
   "metadata": {},
   "outputs": [],
   "source": [
    "x"
   ]
  },
  {
   "cell_type": "code",
   "execution_count": 2,
   "id": "dcc57ad3-0cf3-4952-b90d-1e37dcef70dd",
   "metadata": {},
   "outputs": [],
   "source": [
    "import my_module"
   ]
  },
  {
   "cell_type": "code",
   "execution_count": 4,
   "id": "467b2cd7-4415-409f-97b9-5f139a6bc238",
   "metadata": {},
   "outputs": [],
   "source": [
    "features, target = my_module.get_features_and_target(csv_file='../data/adult-census.csv', target_col='class')"
   ]
  },
  {
   "cell_type": "code",
   "execution_count": 5,
   "id": "d6da9864-7467-4f3f-84df-b66ff5a0be46",
   "metadata": {},
   "outputs": [
    {
     "data": {
      "text/html": [
       "<div>\n",
       "<style scoped>\n",
       "    .dataframe tbody tr th:only-of-type {\n",
       "        vertical-align: middle;\n",
       "    }\n",
       "\n",
       "    .dataframe tbody tr th {\n",
       "        vertical-align: top;\n",
       "    }\n",
       "\n",
       "    .dataframe thead th {\n",
       "        text-align: right;\n",
       "    }\n",
       "</style>\n",
       "<table border=\"1\" class=\"dataframe\">\n",
       "  <thead>\n",
       "    <tr style=\"text-align: right;\">\n",
       "      <th></th>\n",
       "      <th>age</th>\n",
       "      <th>education-num</th>\n",
       "      <th>capital-gain</th>\n",
       "      <th>capital-loss</th>\n",
       "      <th>hours-per-week</th>\n",
       "    </tr>\n",
       "  </thead>\n",
       "  <tbody>\n",
       "    <tr>\n",
       "      <th>0</th>\n",
       "      <td>25</td>\n",
       "      <td>7</td>\n",
       "      <td>0</td>\n",
       "      <td>0</td>\n",
       "      <td>40</td>\n",
       "    </tr>\n",
       "    <tr>\n",
       "      <th>1</th>\n",
       "      <td>38</td>\n",
       "      <td>9</td>\n",
       "      <td>0</td>\n",
       "      <td>0</td>\n",
       "      <td>50</td>\n",
       "    </tr>\n",
       "    <tr>\n",
       "      <th>2</th>\n",
       "      <td>28</td>\n",
       "      <td>12</td>\n",
       "      <td>0</td>\n",
       "      <td>0</td>\n",
       "      <td>40</td>\n",
       "    </tr>\n",
       "    <tr>\n",
       "      <th>3</th>\n",
       "      <td>44</td>\n",
       "      <td>10</td>\n",
       "      <td>7688</td>\n",
       "      <td>0</td>\n",
       "      <td>40</td>\n",
       "    </tr>\n",
       "    <tr>\n",
       "      <th>4</th>\n",
       "      <td>18</td>\n",
       "      <td>10</td>\n",
       "      <td>0</td>\n",
       "      <td>0</td>\n",
       "      <td>30</td>\n",
       "    </tr>\n",
       "    <tr>\n",
       "      <th>...</th>\n",
       "      <td>...</td>\n",
       "      <td>...</td>\n",
       "      <td>...</td>\n",
       "      <td>...</td>\n",
       "      <td>...</td>\n",
       "    </tr>\n",
       "    <tr>\n",
       "      <th>48837</th>\n",
       "      <td>27</td>\n",
       "      <td>12</td>\n",
       "      <td>0</td>\n",
       "      <td>0</td>\n",
       "      <td>38</td>\n",
       "    </tr>\n",
       "    <tr>\n",
       "      <th>48838</th>\n",
       "      <td>40</td>\n",
       "      <td>9</td>\n",
       "      <td>0</td>\n",
       "      <td>0</td>\n",
       "      <td>40</td>\n",
       "    </tr>\n",
       "    <tr>\n",
       "      <th>48839</th>\n",
       "      <td>58</td>\n",
       "      <td>9</td>\n",
       "      <td>0</td>\n",
       "      <td>0</td>\n",
       "      <td>40</td>\n",
       "    </tr>\n",
       "    <tr>\n",
       "      <th>48840</th>\n",
       "      <td>22</td>\n",
       "      <td>9</td>\n",
       "      <td>0</td>\n",
       "      <td>0</td>\n",
       "      <td>20</td>\n",
       "    </tr>\n",
       "    <tr>\n",
       "      <th>48841</th>\n",
       "      <td>52</td>\n",
       "      <td>9</td>\n",
       "      <td>15024</td>\n",
       "      <td>0</td>\n",
       "      <td>40</td>\n",
       "    </tr>\n",
       "  </tbody>\n",
       "</table>\n",
       "<p>48842 rows × 5 columns</p>\n",
       "</div>"
      ],
      "text/plain": [
       "       age  education-num  capital-gain  capital-loss  hours-per-week\n",
       "0       25              7             0             0              40\n",
       "1       38              9             0             0              50\n",
       "2       28             12             0             0              40\n",
       "3       44             10          7688             0              40\n",
       "4       18             10             0             0              30\n",
       "...    ...            ...           ...           ...             ...\n",
       "48837   27             12             0             0              38\n",
       "48838   40              9             0             0              40\n",
       "48839   58              9             0             0              40\n",
       "48840   22              9             0             0              20\n",
       "48841   52              9         15024             0              40\n",
       "\n",
       "[48842 rows x 5 columns]"
      ]
     },
     "execution_count": 5,
     "metadata": {},
     "output_type": "execute_result"
    }
   ],
   "source": [
    "features"
   ]
  },
  {
   "cell_type": "code",
   "execution_count": 6,
   "id": "c0245cbd-23f2-43a6-b836-1b944009b5b1",
   "metadata": {},
   "outputs": [
    {
     "data": {
      "text/plain": [
       "0         <=50K\n",
       "1         <=50K\n",
       "2          >50K\n",
       "3          >50K\n",
       "4         <=50K\n",
       "          ...  \n",
       "48837     <=50K\n",
       "48838      >50K\n",
       "48839     <=50K\n",
       "48840     <=50K\n",
       "48841      >50K\n",
       "Name: class, Length: 48842, dtype: object"
      ]
     },
     "execution_count": 6,
     "metadata": {},
     "output_type": "execute_result"
    }
   ],
   "source": [
    "target"
   ]
  },
  {
   "cell_type": "code",
   "execution_count": 8,
   "id": "07283598-0211-4e30-bcb8-29e1fd7cbc48",
   "metadata": {},
   "outputs": [],
   "source": [
    "from sklearn.model_selection import train_test_split\n",
    "\n",
    "X_train, X_test, y_train, y_test = train_test_split(\n",
    "    features, \n",
    "    target, \n",
    "    random_state=123, \n",
    "    train_size=0.75,\n",
    "    stratify=target\n",
    ")"
   ]
  },
  {
   "cell_type": "code",
   "execution_count": 9,
   "id": "c860f65f-0f5a-46b0-9463-86fa6e121658",
   "metadata": {},
   "outputs": [
    {
     "data": {
      "text/plain": [
       "(36631, 5)"
      ]
     },
     "execution_count": 9,
     "metadata": {},
     "output_type": "execute_result"
    }
   ],
   "source": [
    "X_train.shape"
   ]
  },
  {
   "cell_type": "code",
   "execution_count": 10,
   "id": "c5ec6e7f-0e30-4318-a0b6-c3c6e44f00f2",
   "metadata": {},
   "outputs": [
    {
     "data": {
      "text/plain": [
       "(48842, 5)"
      ]
     },
     "execution_count": 10,
     "metadata": {},
     "output_type": "execute_result"
    }
   ],
   "source": [
    "features.shape"
   ]
  },
  {
   "cell_type": "code",
   "execution_count": 11,
   "id": "17a8b29a-e411-4ab9-8f75-195dc8ba6866",
   "metadata": {},
   "outputs": [
    {
     "data": {
      "text/plain": [
       "0         <=50K\n",
       "1         <=50K\n",
       "2          >50K\n",
       "3          >50K\n",
       "4         <=50K\n",
       "          ...  \n",
       "48837     <=50K\n",
       "48838      >50K\n",
       "48839     <=50K\n",
       "48840     <=50K\n",
       "48841      >50K\n",
       "Name: class, Length: 48842, dtype: object"
      ]
     },
     "execution_count": 11,
     "metadata": {},
     "output_type": "execute_result"
    }
   ],
   "source": [
    "target"
   ]
  },
  {
   "cell_type": "code",
   "execution_count": 12,
   "id": "16895d94-cb23-4d39-9ec0-26a77d33a225",
   "metadata": {},
   "outputs": [
    {
     "data": {
      "text/plain": [
       "0.8258946851199738"
      ]
     },
     "execution_count": 12,
     "metadata": {},
     "output_type": "execute_result"
    }
   ],
   "source": [
    "from sklearn.neighbors import KNeighborsClassifier\n",
    "\n",
    "model = KNeighborsClassifier()\n",
    "\n",
    "model.fit(X_train, y_train)\n",
    "\n",
    "model.score(X_test, y_test)"
   ]
  },
  {
   "cell_type": "markdown",
   "id": "0235637f-297f-4d3c-9f62-888cfa92faa8",
   "metadata": {},
   "source": [
    "Feature Engineering"
   ]
  },
  {
   "cell_type": "code",
   "execution_count": 13,
   "id": "a1d901d1-3c00-45d3-b8fd-2d81c0823dea",
   "metadata": {},
   "outputs": [],
   "source": [
    "from sklearn import set_config\n",
    "set_config(display='diagram')"
   ]
  },
  {
   "cell_type": "code",
   "execution_count": 26,
   "id": "ffcb1e49-ae64-46e6-afe2-041956554283",
   "metadata": {},
   "outputs": [
    {
     "ename": "NameError",
     "evalue": "name 'adult_census' is not defined",
     "output_type": "error",
     "traceback": [
      "\u001b[0;31m---------------------------------------------------------------------------\u001b[0m",
      "\u001b[0;31mNameError\u001b[0m                                 Traceback (most recent call last)",
      "\u001b[0;32m/var/folders/h0/3rjd8qmx7yb_hrqthnc678k40000gn/T/ipykernel_44662/14873199.py\u001b[0m in \u001b[0;36m<module>\u001b[0;34m\u001b[0m\n\u001b[1;32m      1\u001b[0m \u001b[0;31m# separate feature & target data\u001b[0m\u001b[0;34m\u001b[0m\u001b[0;34m\u001b[0m\u001b[0m\n\u001b[0;32m----> 2\u001b[0;31m \u001b[0mtarget\u001b[0m \u001b[0;34m=\u001b[0m \u001b[0madult_census\u001b[0m\u001b[0;34m[\u001b[0m\u001b[0;34m'class'\u001b[0m\u001b[0;34m]\u001b[0m\u001b[0;34m\u001b[0m\u001b[0;34m\u001b[0m\u001b[0m\n\u001b[0m\u001b[1;32m      3\u001b[0m \u001b[0mfeatures\u001b[0m \u001b[0;34m=\u001b[0m \u001b[0madult_census\u001b[0m\u001b[0;34m.\u001b[0m\u001b[0mdrop\u001b[0m\u001b[0;34m(\u001b[0m\u001b[0mcolumns\u001b[0m\u001b[0;34m=\u001b[0m\u001b[0;34m'class'\u001b[0m\u001b[0;34m)\u001b[0m\u001b[0;34m\u001b[0m\u001b[0;34m\u001b[0m\u001b[0m\n",
      "\u001b[0;31mNameError\u001b[0m: name 'adult_census' is not defined"
     ]
    }
   ],
   "source": [
    "# separate feature & target data\n",
    "target = adult_census['class']\n",
    "features = adult_census.drop(columns='class')"
   ]
  },
  {
   "cell_type": "code",
   "execution_count": 27,
   "id": "6c924160-85fe-4ade-b4fe-ce473038186b",
   "metadata": {},
   "outputs": [],
   "source": [
    "from sklearn.compose import make_column_selector as selector\n",
    "\n",
    "# create selector object based on data type\n",
    "numerical_columns_selector = selector(dtype_exclude=object)\n",
    "categorical_columns_selector = selector(dtype_include=object)"
   ]
  },
  {
   "cell_type": "code",
   "execution_count": 28,
   "id": "99ca2322-84af-4b05-8677-257ef88e5b6d",
   "metadata": {},
   "outputs": [],
   "source": [
    "# get columns of interest\n",
    "numerical_columns = numerical_columns_selector(features)\n",
    "categorical_columns = categorical_columns_selector(features)"
   ]
  },
  {
   "cell_type": "code",
   "execution_count": 29,
   "id": "d9a08daa-1fae-4c70-84e5-12686c82d5df",
   "metadata": {},
   "outputs": [
    {
     "data": {
      "text/plain": [
       "['age', 'education-num', 'capital-gain', 'capital-loss', 'hours-per-week']"
      ]
     },
     "execution_count": 29,
     "metadata": {},
     "output_type": "execute_result"
    }
   ],
   "source": [
    "# results in a list containing relevant column names\n",
    "numerical_columns"
   ]
  },
  {
   "cell_type": "code",
   "execution_count": 30,
   "id": "7a19c65c-166b-4313-9cac-2b208f4be012",
   "metadata": {},
   "outputs": [
    {
     "data": {
      "text/html": [
       "<div>\n",
       "<style scoped>\n",
       "    .dataframe tbody tr th:only-of-type {\n",
       "        vertical-align: middle;\n",
       "    }\n",
       "\n",
       "    .dataframe tbody tr th {\n",
       "        vertical-align: top;\n",
       "    }\n",
       "\n",
       "    .dataframe thead th {\n",
       "        text-align: right;\n",
       "    }\n",
       "</style>\n",
       "<table border=\"1\" class=\"dataframe\">\n",
       "  <thead>\n",
       "    <tr style=\"text-align: right;\">\n",
       "      <th></th>\n",
       "      <th>age</th>\n",
       "      <th>education-num</th>\n",
       "      <th>capital-gain</th>\n",
       "      <th>capital-loss</th>\n",
       "      <th>hours-per-week</th>\n",
       "    </tr>\n",
       "  </thead>\n",
       "  <tbody>\n",
       "    <tr>\n",
       "      <th>count</th>\n",
       "      <td>48842.000000</td>\n",
       "      <td>48842.000000</td>\n",
       "      <td>48842.000000</td>\n",
       "      <td>48842.000000</td>\n",
       "      <td>48842.000000</td>\n",
       "    </tr>\n",
       "    <tr>\n",
       "      <th>mean</th>\n",
       "      <td>38.643585</td>\n",
       "      <td>10.078089</td>\n",
       "      <td>1079.067626</td>\n",
       "      <td>87.502314</td>\n",
       "      <td>40.422382</td>\n",
       "    </tr>\n",
       "    <tr>\n",
       "      <th>std</th>\n",
       "      <td>13.710510</td>\n",
       "      <td>2.570973</td>\n",
       "      <td>7452.019058</td>\n",
       "      <td>403.004552</td>\n",
       "      <td>12.391444</td>\n",
       "    </tr>\n",
       "    <tr>\n",
       "      <th>min</th>\n",
       "      <td>17.000000</td>\n",
       "      <td>1.000000</td>\n",
       "      <td>0.000000</td>\n",
       "      <td>0.000000</td>\n",
       "      <td>1.000000</td>\n",
       "    </tr>\n",
       "    <tr>\n",
       "      <th>25%</th>\n",
       "      <td>28.000000</td>\n",
       "      <td>9.000000</td>\n",
       "      <td>0.000000</td>\n",
       "      <td>0.000000</td>\n",
       "      <td>40.000000</td>\n",
       "    </tr>\n",
       "    <tr>\n",
       "      <th>50%</th>\n",
       "      <td>37.000000</td>\n",
       "      <td>10.000000</td>\n",
       "      <td>0.000000</td>\n",
       "      <td>0.000000</td>\n",
       "      <td>40.000000</td>\n",
       "    </tr>\n",
       "    <tr>\n",
       "      <th>75%</th>\n",
       "      <td>48.000000</td>\n",
       "      <td>12.000000</td>\n",
       "      <td>0.000000</td>\n",
       "      <td>0.000000</td>\n",
       "      <td>45.000000</td>\n",
       "    </tr>\n",
       "    <tr>\n",
       "      <th>max</th>\n",
       "      <td>90.000000</td>\n",
       "      <td>16.000000</td>\n",
       "      <td>99999.000000</td>\n",
       "      <td>4356.000000</td>\n",
       "      <td>99.000000</td>\n",
       "    </tr>\n",
       "  </tbody>\n",
       "</table>\n",
       "</div>"
      ],
      "text/plain": [
       "                age  education-num  capital-gain  capital-loss  hours-per-week\n",
       "count  48842.000000   48842.000000  48842.000000  48842.000000    48842.000000\n",
       "mean      38.643585      10.078089   1079.067626     87.502314       40.422382\n",
       "std       13.710510       2.570973   7452.019058    403.004552       12.391444\n",
       "min       17.000000       1.000000      0.000000      0.000000        1.000000\n",
       "25%       28.000000       9.000000      0.000000      0.000000       40.000000\n",
       "50%       37.000000      10.000000      0.000000      0.000000       40.000000\n",
       "75%       48.000000      12.000000      0.000000      0.000000       45.000000\n",
       "max       90.000000      16.000000  99999.000000   4356.000000       99.000000"
      ]
     },
     "execution_count": 30,
     "metadata": {},
     "output_type": "execute_result"
    }
   ],
   "source": [
    "numerical_features = features[numerical_columns]\n",
    "numerical_features.describe()"
   ]
  },
  {
   "cell_type": "code",
   "execution_count": 31,
   "id": "31de0543-1513-4b8d-9ef8-576a5c6644cf",
   "metadata": {},
   "outputs": [
    {
     "data": {
      "text/html": [
       "<style>#sk-dc59396b-9529-4f21-a063-58fbb55fba81 {color: black;background-color: white;}#sk-dc59396b-9529-4f21-a063-58fbb55fba81 pre{padding: 0;}#sk-dc59396b-9529-4f21-a063-58fbb55fba81 div.sk-toggleable {background-color: white;}#sk-dc59396b-9529-4f21-a063-58fbb55fba81 label.sk-toggleable__label {cursor: pointer;display: block;width: 100%;margin-bottom: 0;padding: 0.3em;box-sizing: border-box;text-align: center;}#sk-dc59396b-9529-4f21-a063-58fbb55fba81 div.sk-toggleable__content {max-height: 0;max-width: 0;overflow: hidden;text-align: left;background-color: #f0f8ff;}#sk-dc59396b-9529-4f21-a063-58fbb55fba81 div.sk-toggleable__content pre {margin: 0.2em;color: black;border-radius: 0.25em;background-color: #f0f8ff;}#sk-dc59396b-9529-4f21-a063-58fbb55fba81 input.sk-toggleable__control:checked~div.sk-toggleable__content {max-height: 200px;max-width: 100%;overflow: auto;}#sk-dc59396b-9529-4f21-a063-58fbb55fba81 div.sk-estimator input.sk-toggleable__control:checked~label.sk-toggleable__label {background-color: #d4ebff;}#sk-dc59396b-9529-4f21-a063-58fbb55fba81 div.sk-label input.sk-toggleable__control:checked~label.sk-toggleable__label {background-color: #d4ebff;}#sk-dc59396b-9529-4f21-a063-58fbb55fba81 input.sk-hidden--visually {border: 0;clip: rect(1px 1px 1px 1px);clip: rect(1px, 1px, 1px, 1px);height: 1px;margin: -1px;overflow: hidden;padding: 0;position: absolute;width: 1px;}#sk-dc59396b-9529-4f21-a063-58fbb55fba81 div.sk-estimator {font-family: monospace;background-color: #f0f8ff;border: 1px dotted black;border-radius: 0.25em;box-sizing: border-box;margin-bottom: 0.5em;}#sk-dc59396b-9529-4f21-a063-58fbb55fba81 div.sk-estimator:hover {background-color: #d4ebff;}#sk-dc59396b-9529-4f21-a063-58fbb55fba81 div.sk-parallel-item::after {content: \"\";width: 100%;border-bottom: 1px solid gray;flex-grow: 1;}#sk-dc59396b-9529-4f21-a063-58fbb55fba81 div.sk-label:hover label.sk-toggleable__label {background-color: #d4ebff;}#sk-dc59396b-9529-4f21-a063-58fbb55fba81 div.sk-serial::before {content: \"\";position: absolute;border-left: 1px solid gray;box-sizing: border-box;top: 2em;bottom: 0;left: 50%;}#sk-dc59396b-9529-4f21-a063-58fbb55fba81 div.sk-serial {display: flex;flex-direction: column;align-items: center;background-color: white;padding-right: 0.2em;padding-left: 0.2em;}#sk-dc59396b-9529-4f21-a063-58fbb55fba81 div.sk-item {z-index: 1;}#sk-dc59396b-9529-4f21-a063-58fbb55fba81 div.sk-parallel {display: flex;align-items: stretch;justify-content: center;background-color: white;}#sk-dc59396b-9529-4f21-a063-58fbb55fba81 div.sk-parallel::before {content: \"\";position: absolute;border-left: 1px solid gray;box-sizing: border-box;top: 2em;bottom: 0;left: 50%;}#sk-dc59396b-9529-4f21-a063-58fbb55fba81 div.sk-parallel-item {display: flex;flex-direction: column;position: relative;background-color: white;}#sk-dc59396b-9529-4f21-a063-58fbb55fba81 div.sk-parallel-item:first-child::after {align-self: flex-end;width: 50%;}#sk-dc59396b-9529-4f21-a063-58fbb55fba81 div.sk-parallel-item:last-child::after {align-self: flex-start;width: 50%;}#sk-dc59396b-9529-4f21-a063-58fbb55fba81 div.sk-parallel-item:only-child::after {width: 0;}#sk-dc59396b-9529-4f21-a063-58fbb55fba81 div.sk-dashed-wrapped {border: 1px dashed gray;margin: 0 0.4em 0.5em 0.4em;box-sizing: border-box;padding-bottom: 0.4em;background-color: white;position: relative;}#sk-dc59396b-9529-4f21-a063-58fbb55fba81 div.sk-label label {font-family: monospace;font-weight: bold;background-color: white;display: inline-block;line-height: 1.2em;}#sk-dc59396b-9529-4f21-a063-58fbb55fba81 div.sk-label-container {position: relative;z-index: 2;text-align: center;}#sk-dc59396b-9529-4f21-a063-58fbb55fba81 div.sk-container {display: inline-block;position: relative;}</style><div id=\"sk-dc59396b-9529-4f21-a063-58fbb55fba81\" class\"sk-top-container\"><div class=\"sk-container\"><div class=\"sk-item\"><div class=\"sk-estimator sk-toggleable\"><input class=\"sk-toggleable__control sk-hidden--visually\" id=\"ce3fe7d4-5317-46a3-92da-7fd1fbe48f92\" type=\"checkbox\" checked><label class=\"sk-toggleable__label\" for=\"ce3fe7d4-5317-46a3-92da-7fd1fbe48f92\">StandardScaler</label><div class=\"sk-toggleable__content\"><pre>StandardScaler()</pre></div></div></div></div></div>"
      ],
      "text/plain": [
       "StandardScaler()"
      ]
     },
     "execution_count": 31,
     "metadata": {},
     "output_type": "execute_result"
    }
   ],
   "source": [
    "from sklearn.preprocessing import StandardScaler\n",
    "\n",
    "scaler = StandardScaler()\n",
    "scaler.fit(numerical_features)"
   ]
  },
  {
   "cell_type": "code",
   "execution_count": 32,
   "id": "277b44db-6136-48e5-9316-3cf83cefa9c2",
   "metadata": {},
   "outputs": [
    {
     "data": {
      "text/plain": [
       "array([  38.64358544,   10.07808853, 1079.06762622,   87.50231358,\n",
       "         40.42238238])"
      ]
     },
     "execution_count": 32,
     "metadata": {},
     "output_type": "execute_result"
    }
   ],
   "source": [
    "scaler.mean_"
   ]
  },
  {
   "cell_type": "code",
   "execution_count": null,
   "id": "b4c1a2ec-19eb-480b-bb95-d8dd7e9fe939",
   "metadata": {},
   "outputs": [],
   "source": []
  }
 ],
 "metadata": {
  "kernelspec": {
   "display_name": "Python 3.9.7 64-bit ('uc-python': conda)",
   "language": "python",
   "name": "python397jvsc74a57bd0b78b58e9b46f77eb448af7b2738802b0265d05528b234c1ea97a4e29ba2585ac"
  },
  "language_info": {
   "codemirror_mode": {
    "name": "ipython",
    "version": 3
   },
   "file_extension": ".py",
   "mimetype": "text/x-python",
   "name": "python",
   "nbconvert_exporter": "python",
   "pygments_lexer": "ipython3",
   "version": "3.9.7"
  }
 },
 "nbformat": 4,
 "nbformat_minor": 5
}
